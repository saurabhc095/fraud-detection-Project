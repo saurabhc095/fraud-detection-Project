{
 "cells": [
  {
   "cell_type": "markdown",
   "id": "1d05ea7b",
   "metadata": {},
   "source": [
    "# Reporting with Power BI."
   ]
  },
  {
   "cell_type": "markdown",
   "id": "328c2065",
   "metadata": {},
   "source": [
    "Outline of the Notebook\n",
    "\n",
    "## 🔹 1. Introduction\n",
    "\n",
    "#### Objective of the Power BI dashboard\n",
    "\n",
    "## 🔹 2. Exported Data for Reporting\n",
    "\n",
    "cription of the dataset used in Power BI\n",
    "File(s) used: rf_predictions_results.xlsx, cleaned_selected_features_dataset.xlsx\n",
    "Features included: Actual_Label, Predicted_Label, Fraud_Probability, V3, V4, V10\n",
    "\n",
    "## 🔹 3. KPI Metrics Calculated\n",
    "\n",
    "Total Transactions\n",
    "Actual Frauds\n",
    "Predicted Frauds\n",
    "Accuracy\n",
    "Precision\n",
    "Recall\n",
    "F1 Score\n",
    "\n",
    "## 🔹 4. Dashboard Components\n",
    "\n",
    "#### KPI Cards\n",
    "\n",
    "Slicers (Actual Class, Model Prediction, Probability Range)\n",
    "\n",
    "##### Visualizations:\n",
    "\n",
    "Pie Chart: Fraud vs Non-Fraud Distribution\n",
    "Bar Chart: Actual vs Predicted Fraud Count\n",
    "Table: Fraud Prediction Summary\n",
    "\n",
    "## 🔹 5. Design & Theme\n",
    "\n",
    "Theme used: Classic\n",
    "Font: Segoe UI, consistent text size and color\n",
    "Alignment: All elements aligned with proper spacing\n",
    "Background: Light neutral gray, minimal shadows for professional look\n",
    "\n",
    "## 🔹 6. Business Insights\n",
    "\n",
    "Class imbalance insights\n",
    "High fraud probability patterns (from V3, V4, V10)\n",
    "Model performs well (accuracy close to 1.0), but precision/recall indicate improvement areas\n",
    "\n",
    "## 🔹 7. Conclusion\n",
    "\n",
    "Dashboard provides actionable insights for fraud monitoring\n",
    "Easy-to-use filters (slicers) allow business users to explore the results"
   ]
  }
 ],
 "metadata": {
  "language_info": {
   "name": "python"
  }
 },
 "nbformat": 4,
 "nbformat_minor": 5
}
